{
 "cells": [
  {
   "cell_type": "code",
   "execution_count": 47,
   "metadata": {},
   "outputs": [],
   "source": [
    "import pandas as pd\n",
    "import numpy as np\n",
    "from sklearn.preprocessing import LabelEncoder, StandardScaler\n",
    "from keras.utils import to_categorical\n",
    "from sklearn.model_selection import train_test_split"
   ]
  },
  {
   "cell_type": "code",
   "execution_count": 48,
   "metadata": {},
   "outputs": [
    {
     "data": {
      "text/html": [
       "<div>\n",
       "<style scoped>\n",
       "    .dataframe tbody tr th:only-of-type {\n",
       "        vertical-align: middle;\n",
       "    }\n",
       "\n",
       "    .dataframe tbody tr th {\n",
       "        vertical-align: top;\n",
       "    }\n",
       "\n",
       "    .dataframe thead th {\n",
       "        text-align: right;\n",
       "    }\n",
       "</style>\n",
       "<table border=\"1\" class=\"dataframe\">\n",
       "  <thead>\n",
       "    <tr style=\"text-align: right;\">\n",
       "      <th></th>\n",
       "      <th>Unnamed: 0</th>\n",
       "      <th>wals code</th>\n",
       "      <th>name</th>\n",
       "      <th>value</th>\n",
       "      <th>description</th>\n",
       "      <th>latitude</th>\n",
       "      <th>longitude</th>\n",
       "      <th>area</th>\n",
       "      <th>title</th>\n",
       "      <th>entry</th>\n",
       "    </tr>\n",
       "  </thead>\n",
       "  <tbody>\n",
       "    <tr>\n",
       "      <th>0</th>\n",
       "      <td>0</td>\n",
       "      <td>kiw</td>\n",
       "      <td>Kiwai (Southern)</td>\n",
       "      <td>1</td>\n",
       "      <td>Small</td>\n",
       "      <td>-8.000000</td>\n",
       "      <td>143.500000</td>\n",
       "      <td>Phonology</td>\n",
       "      <td>Consonant Inventories</td>\n",
       "      <td>Consonant Inventories 1</td>\n",
       "    </tr>\n",
       "    <tr>\n",
       "      <th>1</th>\n",
       "      <td>1</td>\n",
       "      <td>xoo</td>\n",
       "      <td>!Xóõ</td>\n",
       "      <td>5</td>\n",
       "      <td>Large</td>\n",
       "      <td>-24.000000</td>\n",
       "      <td>21.500000</td>\n",
       "      <td>Phonology</td>\n",
       "      <td>Consonant Inventories</td>\n",
       "      <td>Consonant Inventories 5</td>\n",
       "    </tr>\n",
       "    <tr>\n",
       "      <th>2</th>\n",
       "      <td>2</td>\n",
       "      <td>ani</td>\n",
       "      <td>//Ani</td>\n",
       "      <td>5</td>\n",
       "      <td>Large</td>\n",
       "      <td>-18.916667</td>\n",
       "      <td>21.916667</td>\n",
       "      <td>Phonology</td>\n",
       "      <td>Consonant Inventories</td>\n",
       "      <td>Consonant Inventories 5</td>\n",
       "    </tr>\n",
       "    <tr>\n",
       "      <th>3</th>\n",
       "      <td>3</td>\n",
       "      <td>abi</td>\n",
       "      <td>Abipón</td>\n",
       "      <td>2</td>\n",
       "      <td>Moderately small</td>\n",
       "      <td>-29.000000</td>\n",
       "      <td>-61.000000</td>\n",
       "      <td>Phonology</td>\n",
       "      <td>Consonant Inventories</td>\n",
       "      <td>Consonant Inventories 2</td>\n",
       "    </tr>\n",
       "    <tr>\n",
       "      <th>4</th>\n",
       "      <td>4</td>\n",
       "      <td>abk</td>\n",
       "      <td>Abkhaz</td>\n",
       "      <td>5</td>\n",
       "      <td>Large</td>\n",
       "      <td>43.083333</td>\n",
       "      <td>41.000000</td>\n",
       "      <td>Phonology</td>\n",
       "      <td>Consonant Inventories</td>\n",
       "      <td>Consonant Inventories 5</td>\n",
       "    </tr>\n",
       "    <tr>\n",
       "      <th>...</th>\n",
       "      <td>...</td>\n",
       "      <td>...</td>\n",
       "      <td>...</td>\n",
       "      <td>...</td>\n",
       "      <td>...</td>\n",
       "      <td>...</td>\n",
       "      <td>...</td>\n",
       "      <td>...</td>\n",
       "      <td>...</td>\n",
       "      <td>...</td>\n",
       "    </tr>\n",
       "    <tr>\n",
       "      <th>76470</th>\n",
       "      <td>76470</td>\n",
       "      <td>tbt</td>\n",
       "      <td>Tobati</td>\n",
       "      <td>5</td>\n",
       "      <td>OS(Neg)[V(-Neg)]</td>\n",
       "      <td>-2.583333</td>\n",
       "      <td>140.666667</td>\n",
       "      <td>Word Order</td>\n",
       "      <td>The Position of Negative Morphemes in Object-I...</td>\n",
       "      <td>The Position of Negative Morphemes in Object-I...</td>\n",
       "    </tr>\n",
       "    <tr>\n",
       "      <th>76471</th>\n",
       "      <td>76471</td>\n",
       "      <td>tvl</td>\n",
       "      <td>Tuvaluan</td>\n",
       "      <td>1</td>\n",
       "      <td>ONegVS</td>\n",
       "      <td>-8.500000</td>\n",
       "      <td>179.166667</td>\n",
       "      <td>Word Order</td>\n",
       "      <td>The Position of Negative Morphemes in Object-I...</td>\n",
       "      <td>The Position of Negative Morphemes in Object-I...</td>\n",
       "    </tr>\n",
       "    <tr>\n",
       "      <th>76472</th>\n",
       "      <td>76472</td>\n",
       "      <td>ung</td>\n",
       "      <td>Ungarinjin</td>\n",
       "      <td>1</td>\n",
       "      <td>ONegVS</td>\n",
       "      <td>-16.333333</td>\n",
       "      <td>126.000000</td>\n",
       "      <td>Word Order</td>\n",
       "      <td>The Position of Negative Morphemes in Object-I...</td>\n",
       "      <td>The Position of Negative Morphemes in Object-I...</td>\n",
       "    </tr>\n",
       "    <tr>\n",
       "      <th>76473</th>\n",
       "      <td>76473</td>\n",
       "      <td>urn</td>\n",
       "      <td>Urarina</td>\n",
       "      <td>4</td>\n",
       "      <td>O[V-Neg]S</td>\n",
       "      <td>-4.500000</td>\n",
       "      <td>-75.500000</td>\n",
       "      <td>Word Order</td>\n",
       "      <td>The Position of Negative Morphemes in Object-I...</td>\n",
       "      <td>The Position of Negative Morphemes in Object-I...</td>\n",
       "    </tr>\n",
       "    <tr>\n",
       "      <th>76474</th>\n",
       "      <td>76474</td>\n",
       "      <td>wic</td>\n",
       "      <td>Wichita</td>\n",
       "      <td>8</td>\n",
       "      <td>NegOVS/NegSOV</td>\n",
       "      <td>33.333333</td>\n",
       "      <td>-97.333333</td>\n",
       "      <td>Word Order</td>\n",
       "      <td>The Position of Negative Morphemes in Object-I...</td>\n",
       "      <td>The Position of Negative Morphemes in Object-I...</td>\n",
       "    </tr>\n",
       "  </tbody>\n",
       "</table>\n",
       "<p>76475 rows × 10 columns</p>\n",
       "</div>"
      ],
      "text/plain": [
       "       Unnamed: 0 wals code               name  value       description  \\\n",
       "0               0       kiw   Kiwai (Southern)      1             Small   \n",
       "1               1       xoo               !Xóõ      5             Large   \n",
       "2               2       ani              //Ani      5             Large   \n",
       "3               3       abi             Abipón      2  Moderately small   \n",
       "4               4       abk             Abkhaz      5             Large   \n",
       "...           ...       ...                ...    ...               ...   \n",
       "76470       76470       tbt             Tobati      5  OS(Neg)[V(-Neg)]   \n",
       "76471       76471       tvl           Tuvaluan      1            ONegVS   \n",
       "76472       76472       ung         Ungarinjin      1            ONegVS   \n",
       "76473       76473       urn            Urarina      4         O[V-Neg]S   \n",
       "76474       76474       wic            Wichita      8     NegOVS/NegSOV   \n",
       "\n",
       "        latitude   longitude        area  \\\n",
       "0      -8.000000  143.500000   Phonology   \n",
       "1     -24.000000   21.500000   Phonology   \n",
       "2     -18.916667   21.916667   Phonology   \n",
       "3     -29.000000  -61.000000   Phonology   \n",
       "4      43.083333   41.000000   Phonology   \n",
       "...          ...         ...         ...   \n",
       "76470  -2.583333  140.666667  Word Order   \n",
       "76471  -8.500000  179.166667  Word Order   \n",
       "76472 -16.333333  126.000000  Word Order   \n",
       "76473  -4.500000  -75.500000  Word Order   \n",
       "76474  33.333333  -97.333333  Word Order   \n",
       "\n",
       "                                                   title  \\\n",
       "0                                  Consonant Inventories   \n",
       "1                                  Consonant Inventories   \n",
       "2                                  Consonant Inventories   \n",
       "3                                  Consonant Inventories   \n",
       "4                                  Consonant Inventories   \n",
       "...                                                  ...   \n",
       "76470  The Position of Negative Morphemes in Object-I...   \n",
       "76471  The Position of Negative Morphemes in Object-I...   \n",
       "76472  The Position of Negative Morphemes in Object-I...   \n",
       "76473  The Position of Negative Morphemes in Object-I...   \n",
       "76474  The Position of Negative Morphemes in Object-I...   \n",
       "\n",
       "                                                   entry  \n",
       "0                                Consonant Inventories 1  \n",
       "1                                Consonant Inventories 5  \n",
       "2                                Consonant Inventories 5  \n",
       "3                                Consonant Inventories 2  \n",
       "4                                Consonant Inventories 5  \n",
       "...                                                  ...  \n",
       "76470  The Position of Negative Morphemes in Object-I...  \n",
       "76471  The Position of Negative Morphemes in Object-I...  \n",
       "76472  The Position of Negative Morphemes in Object-I...  \n",
       "76473  The Position of Negative Morphemes in Object-I...  \n",
       "76474  The Position of Negative Morphemes in Object-I...  \n",
       "\n",
       "[76475 rows x 10 columns]"
      ]
     },
     "execution_count": 48,
     "metadata": {},
     "output_type": "execute_result"
    }
   ],
   "source": [
    "df = pd.read_csv('master_data_table.csv')\n",
    "df"
   ]
  },
  {
   "cell_type": "code",
   "execution_count": 49,
   "metadata": {},
   "outputs": [
    {
     "data": {
      "text/plain": [
       "0                     Presence of Uncommon Consonants 1\n",
       "1     Relationship between the Order of Object and V...\n",
       "2          Order of Adverbial Subordinator and Clause 2\n",
       "3                               Consonant Inventories 5\n",
       "4           Double negation in verb-initial languages 5\n",
       "5                             Noun Phrase Conjunction 1\n",
       "6                        The Morphological Imperative 1\n",
       "7     Minor morphological means of signaling negation 4\n",
       "8     The Position of Negative Morphemes in SVO Lang...\n",
       "9                                        SONegV Order 1\n",
       "10                   Position of Tense-Aspect Affixes 2\n",
       "11                             The Associative Plural 4\n",
       "Name: entry, dtype: object"
      ]
     },
     "execution_count": 49,
     "metadata": {},
     "output_type": "execute_result"
    }
   ],
   "source": [
    "feed1_df = pd.read_csv('./Example Inputs/feed1.csv')\n",
    "feed1_df = feed1_df.dropna()\n",
    "feed1_df['entry']"
   ]
  },
  {
   "cell_type": "code",
   "execution_count": 50,
   "metadata": {},
   "outputs": [],
   "source": [
    "location = list(zip(df.latitude, df.longitude))\n",
    "df['location'] = location\n",
    "df['entry'] = df['entry'].str.replace('/', ' or ')"
   ]
  },
  {
   "cell_type": "code",
   "execution_count": 51,
   "metadata": {},
   "outputs": [
    {
     "data": {
      "text/html": [
       "<div>\n",
       "<style scoped>\n",
       "    .dataframe tbody tr th:only-of-type {\n",
       "        vertical-align: middle;\n",
       "    }\n",
       "\n",
       "    .dataframe tbody tr th {\n",
       "        vertical-align: top;\n",
       "    }\n",
       "\n",
       "    .dataframe thead th {\n",
       "        text-align: right;\n",
       "    }\n",
       "</style>\n",
       "<table border=\"1\" class=\"dataframe\">\n",
       "  <thead>\n",
       "    <tr style=\"text-align: right;\">\n",
       "      <th></th>\n",
       "      <th>Unnamed: 0</th>\n",
       "      <th>wals code</th>\n",
       "      <th>name</th>\n",
       "      <th>value</th>\n",
       "      <th>description</th>\n",
       "      <th>latitude</th>\n",
       "      <th>longitude</th>\n",
       "      <th>area</th>\n",
       "      <th>title</th>\n",
       "      <th>entry</th>\n",
       "      <th>location</th>\n",
       "    </tr>\n",
       "  </thead>\n",
       "  <tbody>\n",
       "    <tr>\n",
       "      <th>0</th>\n",
       "      <td>0</td>\n",
       "      <td>kiw</td>\n",
       "      <td>Kiwai (Southern)</td>\n",
       "      <td>1</td>\n",
       "      <td>Small</td>\n",
       "      <td>-8.000000</td>\n",
       "      <td>143.500000</td>\n",
       "      <td>Phonology</td>\n",
       "      <td>Consonant Inventories</td>\n",
       "      <td>Consonant Inventories 1</td>\n",
       "      <td>(-8.0, 143.5)</td>\n",
       "    </tr>\n",
       "    <tr>\n",
       "      <th>1</th>\n",
       "      <td>1</td>\n",
       "      <td>xoo</td>\n",
       "      <td>!Xóõ</td>\n",
       "      <td>5</td>\n",
       "      <td>Large</td>\n",
       "      <td>-24.000000</td>\n",
       "      <td>21.500000</td>\n",
       "      <td>Phonology</td>\n",
       "      <td>Consonant Inventories</td>\n",
       "      <td>Consonant Inventories 5</td>\n",
       "      <td>(-24.0, 21.5)</td>\n",
       "    </tr>\n",
       "    <tr>\n",
       "      <th>2</th>\n",
       "      <td>2</td>\n",
       "      <td>ani</td>\n",
       "      <td>//Ani</td>\n",
       "      <td>5</td>\n",
       "      <td>Large</td>\n",
       "      <td>-18.916667</td>\n",
       "      <td>21.916667</td>\n",
       "      <td>Phonology</td>\n",
       "      <td>Consonant Inventories</td>\n",
       "      <td>Consonant Inventories 5</td>\n",
       "      <td>(-18.91666667, 21.91666667)</td>\n",
       "    </tr>\n",
       "    <tr>\n",
       "      <th>3</th>\n",
       "      <td>3</td>\n",
       "      <td>abi</td>\n",
       "      <td>Abipón</td>\n",
       "      <td>2</td>\n",
       "      <td>Moderately small</td>\n",
       "      <td>-29.000000</td>\n",
       "      <td>-61.000000</td>\n",
       "      <td>Phonology</td>\n",
       "      <td>Consonant Inventories</td>\n",
       "      <td>Consonant Inventories 2</td>\n",
       "      <td>(-29.0, -61.0)</td>\n",
       "    </tr>\n",
       "    <tr>\n",
       "      <th>4</th>\n",
       "      <td>4</td>\n",
       "      <td>abk</td>\n",
       "      <td>Abkhaz</td>\n",
       "      <td>5</td>\n",
       "      <td>Large</td>\n",
       "      <td>43.083333</td>\n",
       "      <td>41.000000</td>\n",
       "      <td>Phonology</td>\n",
       "      <td>Consonant Inventories</td>\n",
       "      <td>Consonant Inventories 5</td>\n",
       "      <td>(43.08333333, 41.0)</td>\n",
       "    </tr>\n",
       "  </tbody>\n",
       "</table>\n",
       "</div>"
      ],
      "text/plain": [
       "   Unnamed: 0 wals code               name  value       description  \\\n",
       "0           0       kiw   Kiwai (Southern)      1             Small   \n",
       "1           1       xoo               !Xóõ      5             Large   \n",
       "2           2       ani              //Ani      5             Large   \n",
       "3           3       abi             Abipón      2  Moderately small   \n",
       "4           4       abk             Abkhaz      5             Large   \n",
       "\n",
       "    latitude   longitude       area                  title  \\\n",
       "0  -8.000000  143.500000  Phonology  Consonant Inventories   \n",
       "1 -24.000000   21.500000  Phonology  Consonant Inventories   \n",
       "2 -18.916667   21.916667  Phonology  Consonant Inventories   \n",
       "3 -29.000000  -61.000000  Phonology  Consonant Inventories   \n",
       "4  43.083333   41.000000  Phonology  Consonant Inventories   \n",
       "\n",
       "                     entry                     location  \n",
       "0  Consonant Inventories 1                (-8.0, 143.5)  \n",
       "1  Consonant Inventories 5                (-24.0, 21.5)  \n",
       "2  Consonant Inventories 5  (-18.91666667, 21.91666667)  \n",
       "3  Consonant Inventories 2               (-29.0, -61.0)  \n",
       "4  Consonant Inventories 5          (43.08333333, 41.0)  "
      ]
     },
     "execution_count": 51,
     "metadata": {},
     "output_type": "execute_result"
    }
   ],
   "source": [
    "df.head()"
   ]
  },
  {
   "cell_type": "code",
   "execution_count": 52,
   "metadata": {},
   "outputs": [],
   "source": [
    "# entry = df['entry']\n",
    "# dummies_entry = pd.get_dummies(entry)\n",
    "# df['dummies_entry'] = dummies_entry\n",
    "# df"
   ]
  },
  {
   "cell_type": "code",
   "execution_count": 152,
   "metadata": {},
   "outputs": [
    {
     "data": {
      "text/plain": [
       "((76475,), (76475,))"
      ]
     },
     "execution_count": 152,
     "metadata": {},
     "output_type": "execute_result"
    }
   ],
   "source": [
    "X = df['entry']\n",
    "z = df['latitude']\n",
    "y = df['longitude']\n",
    "\n",
    "feed1_df_X = feed1_df['entry']\n",
    "\n",
    "X.shape, y.shape"
   ]
  },
  {
   "cell_type": "code",
   "execution_count": 153,
   "metadata": {},
   "outputs": [],
   "source": [
    "from sklearn.preprocessing import LabelEncoder\n",
    "\n",
    "label_encoder = LabelEncoder()\n",
    "label_encoder.fit(X)\n",
    "# label_encoder.fit(feed1_df_X)\n",
    "encoded_X = label_encoder.transform(X)\n",
    "encoded_feed1 = label_encoder.transform(feed1_df_X)\n",
    "\n"
   ]
  },
  {
   "cell_type": "code",
   "execution_count": 154,
   "metadata": {},
   "outputs": [
    {
     "name": "stdout",
     "output_type": "stream",
     "text": [
      "Original Class: Consonant Inventories 1\n",
      "Encoded Label: 803\n",
      "------------\n",
      "Original Class: Consonant Inventories 5\n",
      "Encoded Label: 851\n",
      "------------\n",
      "Original Class: Consonant Inventories 5\n",
      "Encoded Label: 601\n",
      "------------\n",
      "Original Class: Consonant Inventories 2\n",
      "Encoded Label: 100\n",
      "------------\n",
      "Original Class: Consonant Inventories 5\n",
      "Encoded Label: 148\n",
      "------------\n",
      "Original Class: Consonant Inventories 2\n",
      "Encoded Label: 415\n",
      "------------\n",
      "Original Class: Consonant Inventories 1\n",
      "Encoded Label: 959\n",
      "------------\n",
      "Original Class: Consonant Inventories 5\n",
      "Encoded Label: 324\n",
      "------------\n",
      "Original Class: Consonant Inventories 2\n",
      "Encoded Label: 1012\n",
      "------------\n",
      "Original Class: Consonant Inventories 3\n",
      "Encoded Label: 883\n",
      "------------\n",
      "Original Class: Consonant Inventories 4\n",
      "Encoded Label: 762\n",
      "------------\n",
      "Original Class: Consonant Inventories 3\n",
      "Encoded Label: 956\n",
      "------------\n"
     ]
    }
   ],
   "source": [
    "for label, original_class in zip(encoded_feed1, X):\n",
    "    print('Original Class: ' + str(original_class))\n",
    "    print('Encoded Label: ' + str(label))\n",
    "    print('-' * 12)"
   ]
  },
  {
   "cell_type": "code",
   "execution_count": 155,
   "metadata": {},
   "outputs": [
    {
     "data": {
      "text/plain": [
       "array([[0., 0., 0., 0., 0.],\n",
       "       [0., 0., 0., 0., 0.],\n",
       "       [0., 0., 0., 0., 0.]], dtype=float32)"
      ]
     },
     "execution_count": 155,
     "metadata": {},
     "output_type": "execute_result"
    }
   ],
   "source": [
    "one_hot_X = to_categorical(encoded_X)\n",
    "one_hot_X_feed1 = to_categorical(encoded_feed1)\n",
    "# cols = [1,2,3,4,5,6,7,8,9,10]\n",
    "# df = df[df.columns[cols]]\n",
    "# df\n",
    "one_hot_X_feed1[0:3,0:5]"
   ]
  },
  {
   "cell_type": "code",
   "execution_count": 156,
   "metadata": {},
   "outputs": [],
   "source": [
    "# # Step 1: Label-encode data set\n",
    "# label_encoder = LabelEncoder()\n",
    "# label_encoder.fit(y)\n",
    "# encoded_y = label_encoder.transform(y)"
   ]
  },
  {
   "cell_type": "code",
   "execution_count": 157,
   "metadata": {},
   "outputs": [],
   "source": [
    "# create training and testing data\n",
    "X_train, X_test, y_train, y_test = train_test_split(encoded_X, y, random_state=1)"
   ]
  },
  {
   "cell_type": "code",
   "execution_count": 158,
   "metadata": {},
   "outputs": [],
   "source": [
    "# from sklearn.preprocessing import StandardScaler\n",
    "\n",
    "# # Create a StandardScater model and fit it to the training data\n",
    "\n",
    "# ### BEGIN SOLUTION\n",
    "# X_scaler = StandardScaler().fit(X_train)\n",
    "# y_scaler = StandardScaler().fit(y_train)\n",
    "# ### END SOLUTION"
   ]
  },
  {
   "cell_type": "code",
   "execution_count": 159,
   "metadata": {},
   "outputs": [
    {
     "data": {
      "text/plain": [
       "LinearRegression()"
      ]
     },
     "execution_count": 159,
     "metadata": {},
     "output_type": "execute_result"
    }
   ],
   "source": [
    "from sklearn.linear_model import LinearRegression\n",
    "classifier = LinearRegression()\n",
    "classifier"
   ]
  },
  {
   "cell_type": "code",
   "execution_count": 160,
   "metadata": {},
   "outputs": [
    {
     "data": {
      "text/plain": [
       "LinearRegression()"
      ]
     },
     "execution_count": 160,
     "metadata": {},
     "output_type": "execute_result"
    }
   ],
   "source": [
    "encoded_X = encoded_X.reshape(-1,1)\n",
    "classifier.fit(encoded_X, y)"
   ]
  },
  {
   "cell_type": "code",
   "execution_count": 161,
   "metadata": {},
   "outputs": [
    {
     "name": "stdout",
     "output_type": "stream",
     "text": [
      "Mean Squared Error (MSE): 8218.742432633537\n",
      "R-squared (R2 ): 0.0004382578052413155\n"
     ]
    }
   ],
   "source": [
    "from sklearn.metrics import mean_squared_error, r2_score\n",
    "\n",
    "# Use our model to predict a value\n",
    "predicted = classifier.predict(encoded_X)\n",
    "\n",
    "# Score the prediction with mse and r2\n",
    "mse = mean_squared_error(y, predicted)\n",
    "r2 = r2_score(y, predicted)\n",
    "\n",
    "print(f\"Mean Squared Error (MSE): {mse}\")\n",
    "print(f\"R-squared (R2 ): {r2}\")"
   ]
  },
  {
   "cell_type": "code",
   "execution_count": 162,
   "metadata": {},
   "outputs": [
    {
     "ename": "ValueError",
     "evalue": "matmul: Input operand 1 has a mismatch in its core dimension 0, with gufunc signature (n?,k),(k,m?)->(n?,m?) (size 1 is different from 1139)",
     "output_type": "error",
     "traceback": [
      "\u001b[1;31m---------------------------------------------------------------------------\u001b[0m",
      "\u001b[1;31mValueError\u001b[0m                                Traceback (most recent call last)",
      "\u001b[1;32m<ipython-input-162-c755e28a1c21>\u001b[0m in \u001b[0;36m<module>\u001b[1;34m\u001b[0m\n\u001b[1;32m----> 1\u001b[1;33m \u001b[0mpredicted\u001b[0m \u001b[1;33m=\u001b[0m \u001b[0mclassifier\u001b[0m\u001b[1;33m.\u001b[0m\u001b[0mpredict\u001b[0m\u001b[1;33m(\u001b[0m\u001b[0mone_hot_X\u001b[0m\u001b[1;33m)\u001b[0m\u001b[1;33m\u001b[0m\u001b[1;33m\u001b[0m\u001b[0m\n\u001b[0m",
      "\u001b[1;32mD:\\Python\\lib\\site-packages\\sklearn\\linear_model\\_base.py\u001b[0m in \u001b[0;36mpredict\u001b[1;34m(self, X)\u001b[0m\n\u001b[0;32m    234\u001b[0m             \u001b[0mReturns\u001b[0m \u001b[0mpredicted\u001b[0m \u001b[0mvalues\u001b[0m\u001b[1;33m.\u001b[0m\u001b[1;33m\u001b[0m\u001b[1;33m\u001b[0m\u001b[0m\n\u001b[0;32m    235\u001b[0m         \"\"\"\n\u001b[1;32m--> 236\u001b[1;33m         \u001b[1;32mreturn\u001b[0m \u001b[0mself\u001b[0m\u001b[1;33m.\u001b[0m\u001b[0m_decision_function\u001b[0m\u001b[1;33m(\u001b[0m\u001b[0mX\u001b[0m\u001b[1;33m)\u001b[0m\u001b[1;33m\u001b[0m\u001b[1;33m\u001b[0m\u001b[0m\n\u001b[0m\u001b[0;32m    237\u001b[0m \u001b[1;33m\u001b[0m\u001b[0m\n\u001b[0;32m    238\u001b[0m     \u001b[0m_preprocess_data\u001b[0m \u001b[1;33m=\u001b[0m \u001b[0mstaticmethod\u001b[0m\u001b[1;33m(\u001b[0m\u001b[0m_preprocess_data\u001b[0m\u001b[1;33m)\u001b[0m\u001b[1;33m\u001b[0m\u001b[1;33m\u001b[0m\u001b[0m\n",
      "\u001b[1;32mD:\\Python\\lib\\site-packages\\sklearn\\linear_model\\_base.py\u001b[0m in \u001b[0;36m_decision_function\u001b[1;34m(self, X)\u001b[0m\n\u001b[0;32m    218\u001b[0m         \u001b[0mX\u001b[0m \u001b[1;33m=\u001b[0m \u001b[0mcheck_array\u001b[0m\u001b[1;33m(\u001b[0m\u001b[0mX\u001b[0m\u001b[1;33m,\u001b[0m \u001b[0maccept_sparse\u001b[0m\u001b[1;33m=\u001b[0m\u001b[1;33m[\u001b[0m\u001b[1;34m'csr'\u001b[0m\u001b[1;33m,\u001b[0m \u001b[1;34m'csc'\u001b[0m\u001b[1;33m,\u001b[0m \u001b[1;34m'coo'\u001b[0m\u001b[1;33m]\u001b[0m\u001b[1;33m)\u001b[0m\u001b[1;33m\u001b[0m\u001b[1;33m\u001b[0m\u001b[0m\n\u001b[0;32m    219\u001b[0m         return safe_sparse_dot(X, self.coef_.T,\n\u001b[1;32m--> 220\u001b[1;33m                                dense_output=True) + self.intercept_\n\u001b[0m\u001b[0;32m    221\u001b[0m \u001b[1;33m\u001b[0m\u001b[0m\n\u001b[0;32m    222\u001b[0m     \u001b[1;32mdef\u001b[0m \u001b[0mpredict\u001b[0m\u001b[1;33m(\u001b[0m\u001b[0mself\u001b[0m\u001b[1;33m,\u001b[0m \u001b[0mX\u001b[0m\u001b[1;33m)\u001b[0m\u001b[1;33m:\u001b[0m\u001b[1;33m\u001b[0m\u001b[1;33m\u001b[0m\u001b[0m\n",
      "\u001b[1;32mD:\\Python\\lib\\site-packages\\sklearn\\utils\\validation.py\u001b[0m in \u001b[0;36minner_f\u001b[1;34m(*args, **kwargs)\u001b[0m\n\u001b[0;32m     70\u001b[0m                           FutureWarning)\n\u001b[0;32m     71\u001b[0m         \u001b[0mkwargs\u001b[0m\u001b[1;33m.\u001b[0m\u001b[0mupdate\u001b[0m\u001b[1;33m(\u001b[0m\u001b[1;33m{\u001b[0m\u001b[0mk\u001b[0m\u001b[1;33m:\u001b[0m \u001b[0marg\u001b[0m \u001b[1;32mfor\u001b[0m \u001b[0mk\u001b[0m\u001b[1;33m,\u001b[0m \u001b[0marg\u001b[0m \u001b[1;32min\u001b[0m \u001b[0mzip\u001b[0m\u001b[1;33m(\u001b[0m\u001b[0msig\u001b[0m\u001b[1;33m.\u001b[0m\u001b[0mparameters\u001b[0m\u001b[1;33m,\u001b[0m \u001b[0margs\u001b[0m\u001b[1;33m)\u001b[0m\u001b[1;33m}\u001b[0m\u001b[1;33m)\u001b[0m\u001b[1;33m\u001b[0m\u001b[1;33m\u001b[0m\u001b[0m\n\u001b[1;32m---> 72\u001b[1;33m         \u001b[1;32mreturn\u001b[0m \u001b[0mf\u001b[0m\u001b[1;33m(\u001b[0m\u001b[1;33m**\u001b[0m\u001b[0mkwargs\u001b[0m\u001b[1;33m)\u001b[0m\u001b[1;33m\u001b[0m\u001b[1;33m\u001b[0m\u001b[0m\n\u001b[0m\u001b[0;32m     73\u001b[0m     \u001b[1;32mreturn\u001b[0m \u001b[0minner_f\u001b[0m\u001b[1;33m\u001b[0m\u001b[1;33m\u001b[0m\u001b[0m\n\u001b[0;32m     74\u001b[0m \u001b[1;33m\u001b[0m\u001b[0m\n",
      "\u001b[1;32mD:\\Python\\lib\\site-packages\\sklearn\\utils\\extmath.py\u001b[0m in \u001b[0;36msafe_sparse_dot\u001b[1;34m(a, b, dense_output)\u001b[0m\n\u001b[0;32m    151\u001b[0m             \u001b[0mret\u001b[0m \u001b[1;33m=\u001b[0m \u001b[0mnp\u001b[0m\u001b[1;33m.\u001b[0m\u001b[0mdot\u001b[0m\u001b[1;33m(\u001b[0m\u001b[0ma\u001b[0m\u001b[1;33m,\u001b[0m \u001b[0mb\u001b[0m\u001b[1;33m)\u001b[0m\u001b[1;33m\u001b[0m\u001b[1;33m\u001b[0m\u001b[0m\n\u001b[0;32m    152\u001b[0m     \u001b[1;32melse\u001b[0m\u001b[1;33m:\u001b[0m\u001b[1;33m\u001b[0m\u001b[1;33m\u001b[0m\u001b[0m\n\u001b[1;32m--> 153\u001b[1;33m         \u001b[0mret\u001b[0m \u001b[1;33m=\u001b[0m \u001b[0ma\u001b[0m \u001b[1;33m@\u001b[0m \u001b[0mb\u001b[0m\u001b[1;33m\u001b[0m\u001b[1;33m\u001b[0m\u001b[0m\n\u001b[0m\u001b[0;32m    154\u001b[0m \u001b[1;33m\u001b[0m\u001b[0m\n\u001b[0;32m    155\u001b[0m     if (sparse.issparse(a) and sparse.issparse(b)\n",
      "\u001b[1;31mValueError\u001b[0m: matmul: Input operand 1 has a mismatch in its core dimension 0, with gufunc signature (n?,k),(k,m?)->(n?,m?) (size 1 is different from 1139)"
     ]
    }
   ],
   "source": [
    "predicted = classifier.predict(one_hot_X)"
   ]
  },
  {
   "cell_type": "code",
   "execution_count": 163,
   "metadata": {},
   "outputs": [
    {
     "name": "stdout",
     "output_type": "stream",
     "text": [
      "[30.6419335  30.66664494 30.66664494 ... 36.06609252 36.09698181\n",
      " 36.12169324]\n"
     ]
    }
   ],
   "source": [
    "print(predicted)"
   ]
  },
  {
   "cell_type": "code",
   "execution_count": 164,
   "metadata": {},
   "outputs": [
    {
     "data": {
      "text/plain": [
       "12"
      ]
     },
     "execution_count": 164,
     "metadata": {},
     "output_type": "execute_result"
    }
   ],
   "source": [
    "len(one_hot_X_feed1)"
   ]
  },
  {
   "cell_type": "code",
   "execution_count": 165,
   "metadata": {},
   "outputs": [
    {
     "data": {
      "text/plain": [
       "array([35.00967886, 35.30621603, 33.76175162, 30.66664494, 30.9631821 ,\n",
       "       32.61267009, 35.97342465, 32.05048505, 36.30085111, 35.50390747,\n",
       "       34.7563867 , 35.95489108])"
      ]
     },
     "execution_count": 165,
     "metadata": {},
     "output_type": "execute_result"
    }
   ],
   "source": [
    "encoded_feed1 = encoded_feed1.reshape(-1,1)\n",
    "classifier.predict(encoded_feed1)\n"
   ]
  },
  {
   "cell_type": "code",
   "execution_count": 96,
   "metadata": {},
   "outputs": [
    {
     "name": "stdout",
     "output_type": "stream",
     "text": [
      "[[0. 0. 0. ... 0. 0. 0.]]\n",
      "[[0.]]\n"
     ]
    }
   ],
   "source": [
    "print(one_hot_X[1:2])\n",
    "print(one_hot_X_feed1[1:2])\n"
   ]
  },
  {
   "cell_type": "code",
   "execution_count": 20,
   "metadata": {},
   "outputs": [
    {
     "data": {
      "text/plain": [
       "962"
      ]
     },
     "execution_count": 20,
     "metadata": {},
     "output_type": "execute_result"
    }
   ],
   "source": [
    "len(df['description'].unique())"
   ]
  },
  {
   "cell_type": "code",
   "execution_count": null,
   "metadata": {},
   "outputs": [],
   "source": [
    "# Step 0: Reformat data\n",
    "data = df.values\n",
    "# this is j in excel\n",
    "X = data[:, 9]\n",
    "# this is e in excel\n",
    "y = data[:, 4]\n",
    "print(y)"
   ]
  },
  {
   "cell_type": "code",
   "execution_count": null,
   "metadata": {},
   "outputs": [],
   "source": [
    "# # Step 2: One-hot encoding\n",
    "# one_hot_y = to_categorical(encoded_y)\n",
    "# one_hot_y.shape"
   ]
  },
  {
   "cell_type": "code",
   "execution_count": null,
   "metadata": {},
   "outputs": [],
   "source": []
  },
  {
   "cell_type": "code",
   "execution_count": null,
   "metadata": {},
   "outputs": [],
   "source": []
  }
 ],
 "metadata": {
  "kernelspec": {
   "display_name": "Python 3",
   "language": "python",
   "name": "python3"
  },
  "language_info": {
   "codemirror_mode": {
    "name": "ipython",
    "version": 3
   },
   "file_extension": ".py",
   "mimetype": "text/x-python",
   "name": "python",
   "nbconvert_exporter": "python",
   "pygments_lexer": "ipython3",
   "version": "3.7.6"
  }
 },
 "nbformat": 4,
 "nbformat_minor": 4
}
