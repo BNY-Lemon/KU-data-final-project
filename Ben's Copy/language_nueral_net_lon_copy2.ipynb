{
 "cells": [
  {
   "cell_type": "code",
   "execution_count": 1,
   "metadata": {},
   "outputs": [
    {
     "name": "stderr",
     "output_type": "stream",
     "text": [
      "Using TensorFlow backend.\n"
     ]
    }
   ],
   "source": [
    "import pandas as pd\n",
    "import numpy as np\n",
    "from sklearn.preprocessing import LabelEncoder, StandardScaler\n",
    "from keras.utils import to_categorical\n",
    "from sklearn.model_selection import train_test_split\n",
    "\n",
    "master_df = pd.read_csv('master_data_table.csv')\n",
    "feed_df = pd.read_csv('./Example Inputs/feed4.csv')\n",
    "\n",
    "df = master_df.merge(feed_df, how='outer', on='entry').dropna()\n",
    "\n",
    "df.head()\n",
    "\n",
    "# # location = list(zip(df.latitude, df.longitude))\n",
    "# df['latitude'] = latitude\n",
    "df['entry'] = df['entry'].str.replace('/', ' or ')\n",
    "df['entry'] = df['entry'].str.replace(' ', '_')\n",
    "\n",
    "df\n",
    "\n",
    "# entry = df['entry']\n",
    "# dummies_entry = pd.get_dummies(entry)\n",
    "# df['dummies_entry'] = dummies_entry\n",
    "# df\n",
    "\n",
    "X = df['entry']\n",
    "y = df['longitude']\n",
    "\n",
    "X.shape, y.shape\n",
    "\n",
    "from sklearn.preprocessing import LabelEncoder\n",
    "\n",
    "label_encoder = LabelEncoder()\n",
    "label_encoder.fit(X)\n",
    "encoded_X = label_encoder.transform(X)\n",
    "\n",
    "for label, original_class in zip(encoded_X, X):\n",
    "    print('Original Class: ' + str(original_class))\n",
    "    print('Encoded Label: ' + str(label))\n",
    "    print('-' * 12)\n",
    "\n",
    "one_hot_X = to_categorical(encoded_X)\n",
    "# cols = [1,2,3,4,5,6,7,8,9,10]\n",
    "# df = df[df.columns[cols]]\n",
    "# df\n",
    "one_hot_X[0:3,0:5]\n",
    "\n",
    "# # Step 1: Label-encode data set\n",
    "# label_encoder = LabelEncoder()\n",
    "# label_encoder.fit(y)\n",
    "# encoded_y = label_encoder.transform(y)\n",
    "\n",
    "# create training and testing data\n",
    "X_train, X_test, y_train, y_test = train_test_split(one_hot_X, y, random_state=1)\n",
    "\n",
    "from sklearn.linear_model import LinearRegression\n",
    "classifier = LinearRegression()\n",
    "classifier\n",
    "\n",
    "classifier.fit(one_hot_X, y)\n",
    "\n",
    "from sklearn.metrics import mean_squared_error, r2_score\n",
    "\n",
    "# Use our model to predict a value\n",
    "predicted = classifier.predict(one_hot_X)\n",
    "\n",
    "# Score the prediction with mse and r2\n",
    "mse = mean_squared_error(y, predicted)\n",
    "r2 = r2_score(y, predicted)\n",
    "\n",
    "print(f\"Mean Squared Error (MSE): {mse}\")\n",
    "print(f\"R-squared (R2 ): {r2}\")\n",
    "\n",
    "predicted_lon = classifier.predict(one_hot_X)\n",
    "\n",
    "predicted_lon_avg = np.average(predicted_lon)\n",
    "print(predicted_lon_avg)"
   ]
  },
  {
   "cell_type": "code",
   "execution_count": null,
   "metadata": {},
   "outputs": [],
   "source": []
  }
 ],
 "metadata": {
  "kernelspec": {
   "display_name": "Python 3",
   "language": "python",
   "name": "python3"
  },
  "language_info": {
   "codemirror_mode": {
    "name": "ipython",
    "version": 3
   },
   "file_extension": ".py",
   "mimetype": "text/x-python",
   "name": "python",
   "nbconvert_exporter": "python",
   "pygments_lexer": "ipython3",
   "version": "3.7.6"
  }
 },
 "nbformat": 4,
 "nbformat_minor": 4
}
